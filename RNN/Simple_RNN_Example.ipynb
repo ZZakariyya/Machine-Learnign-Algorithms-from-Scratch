{
  "nbformat": 4,
  "nbformat_minor": 0,
  "metadata": {
    "colab": {
      "provenance": []
    },
    "kernelspec": {
      "name": "python3",
      "display_name": "Python 3"
    },
    "language_info": {
      "name": "python"
    }
  },
  "cells": [
    {
      "cell_type": "markdown",
      "source": [
        "#Here's a simple example of an RNN using Python and NumPy."
      ],
      "metadata": {
        "id": "k5nwY-FEWXeT"
      }
    },
    {
      "cell_type": "code",
      "source": [
        "import numpy as np\n",
        "\n",
        "# Sigmoid activation function\n",
        "def sigmoid(x):\n",
        "    return 1 / (1 + np.exp(-x))\n",
        "\n",
        "# RNN cell\n",
        "def rnn_cell(input_t, state_t, W_xh, W_hh, W_hy, b_h, b_y):\n",
        "    state_t = np.tanh(np.dot(W_xh, input_t) + np.dot(W_hh, state_t) + b_h)\n",
        "    output_t = np.dot(W_hy, state_t) + b_y\n",
        "    return output_t, state_t\n",
        "\n",
        "# Define RNN parameters\n",
        "input_size = 1\n",
        "hidden_size = 10\n",
        "output_size = 1\n",
        "\n",
        "# Initialize RNN weights and biases\n",
        "np.random.seed(0)\n",
        "W_xh = np.random.randn(hidden_size, input_size) * 0.01\n",
        "W_hh = np.random.randn(hidden_size, hidden_size) * 0.01\n",
        "W_hy = np.random.randn(output_size, hidden_size) * 0.01\n",
        "b_h = np.zeros((hidden_size, 1))\n",
        "b_y = np.zeros((output_size, 1))\n",
        "\n",
        "# Example input sequence (length T)\n",
        "input_sequence = [1, 2, 3, 4, 5]\n",
        "T = len(input_sequence)\n",
        "\n",
        "# Initialize hidden state\n",
        "state_t = np.zeros((hidden_size, 1))\n",
        "\n",
        "# Process the input sequence\n",
        "outputs = []\n",
        "for t in range(T):\n",
        "    input_t = np.array([[input_sequence[t]]]).T\n",
        "    output_t, state_t = rnn_cell(input_t, state_t, W_xh, W_hh, W_hy, b_h, b_y)\n",
        "    outputs.append(output_t)\n",
        "\n",
        "# Calculate the sum of the sequence\n",
        "sequence_sum = sigmoid(np.sum(outputs))\n",
        "\n",
        "print(\"Sequence Sum:\")\n",
        "print(sequence_sum)\n"
      ],
      "metadata": {
        "id": "z2dMXZOp5n2J",
        "colab": {
          "base_uri": "https://localhost:8080/"
        },
        "outputId": "dbbab0fe-dc48-4265-f7b6-51581e502461"
      },
      "execution_count": null,
      "outputs": [
        {
          "output_type": "stream",
          "name": "stdout",
          "text": [
            "Sequence Sum:\n",
            "0.502653305788557\n"
          ]
        }
      ]
    },
    {
      "cell_type": "markdown",
      "source": [
        "#Here's a simple example of an RNN for sentiment analysis using TensorFlow and Keras:"
      ],
      "metadata": {
        "id": "QJGXxcx8Wlds"
      }
    },
    {
      "cell_type": "markdown",
      "source": [
        "###Loading the data"
      ],
      "metadata": {
        "id": "qmLofnCFWq_N"
      }
    },
    {
      "cell_type": "code",
      "source": [
        "import tensorflow as tf\n",
        "from tensorflow.keras.preprocessing import sequence\n",
        "from tensorflow.keras.datasets import imdb\n",
        "\n",
        "# Load the IMDB dataset\n",
        "# Keep only the top 10,000 most frequent words and truncate/pad sequences to a length of 80\n",
        "vocab_size = 10000\n",
        "maxlen = 80\n",
        "(x_train, y_train), (x_test, y_test) = imdb.load_data(num_words=vocab_size)\n",
        "x_train = sequence.pad_sequences(x_train, maxlen=maxlen)\n",
        "x_test = sequence.pad_sequences(x_test, maxlen=maxlen)"
      ],
      "metadata": {
        "id": "NfmCCOGr54tl",
        "colab": {
          "base_uri": "https://localhost:8080/"
        },
        "outputId": "a05be5b6-54c4-468f-8d61-caed51009462"
      },
      "execution_count": null,
      "outputs": [
        {
          "output_type": "stream",
          "name": "stdout",
          "text": [
            "Downloading data from https://storage.googleapis.com/tensorflow/tf-keras-datasets/imdb.npz\n",
            "17464789/17464789 [==============================] - 0s 0us/step\n"
          ]
        }
      ]
    },
    {
      "cell_type": "markdown",
      "source": [
        "###Model"
      ],
      "metadata": {
        "id": "QsmE16wNWyEa"
      }
    },
    {
      "cell_type": "code",
      "source": [
        "model = tf.keras.Sequential([\n",
        "    tf.keras.layers.Embedding(vocab_size, 128),\n",
        "    tf.keras.layers.SimpleRNN(128, activation='tanh'),\n",
        "    tf.keras.layers.Dense(1, activation='sigmoid')\n",
        "])\n",
        "\n",
        "model.summary()"
      ],
      "metadata": {
        "colab": {
          "base_uri": "https://localhost:8080/"
        },
        "id": "Kaxy9NhMWqXe",
        "outputId": "1b53bb24-e5c4-4217-e025-3a8c7d7c106b"
      },
      "execution_count": null,
      "outputs": [
        {
          "output_type": "stream",
          "name": "stdout",
          "text": [
            "Model: \"sequential\"\n",
            "_________________________________________________________________\n",
            " Layer (type)                Output Shape              Param #   \n",
            "=================================================================\n",
            " embedding (Embedding)       (None, None, 128)         1280000   \n",
            "                                                                 \n",
            " simple_rnn (SimpleRNN)      (None, 128)               32896     \n",
            "                                                                 \n",
            " dense (Dense)               (None, 1)                 129       \n",
            "                                                                 \n",
            "=================================================================\n",
            "Total params: 1,313,025\n",
            "Trainable params: 1,313,025\n",
            "Non-trainable params: 0\n",
            "_________________________________________________________________\n"
          ]
        }
      ]
    },
    {
      "cell_type": "code",
      "source": [
        "model.compile(optimizer='adam',\n",
        "              loss='binary_crossentropy',\n",
        "              metrics=['accuracy'])\n",
        "\n",
        "model.fit(x_train, y_train, epochs=3, batch_size=64, validation_split=0.2)"
      ],
      "metadata": {
        "colab": {
          "base_uri": "https://localhost:8080/"
        },
        "id": "y8AcKDGBWxYK",
        "outputId": "9ab55539-56af-4e9a-8cd3-91c29e75fa80"
      },
      "execution_count": null,
      "outputs": [
        {
          "output_type": "stream",
          "name": "stdout",
          "text": [
            "Epoch 1/3\n",
            "313/313 [==============================] - 50s 152ms/step - loss: 0.6245 - accuracy: 0.6168 - val_loss: 0.5501 - val_accuracy: 0.7176\n",
            "Epoch 2/3\n",
            "313/313 [==============================] - 47s 149ms/step - loss: 0.3888 - accuracy: 0.8282 - val_loss: 0.4844 - val_accuracy: 0.7672\n",
            "Epoch 3/3\n",
            "313/313 [==============================] - 46s 148ms/step - loss: 0.2435 - accuracy: 0.9014 - val_loss: 0.5329 - val_accuracy: 0.8006\n"
          ]
        },
        {
          "output_type": "execute_result",
          "data": {
            "text/plain": [
              "<keras.callbacks.History at 0x7f636c72f2e0>"
            ]
          },
          "metadata": {},
          "execution_count": 5
        }
      ]
    },
    {
      "cell_type": "markdown",
      "source": [
        "###Accuracy"
      ],
      "metadata": {
        "id": "hxwldeuLW4RM"
      }
    },
    {
      "cell_type": "code",
      "source": [
        "test_loss, test_acc = model.evaluate(x_test, y_test)\n",
        "print(f'Test accuracy: {test_acc}')"
      ],
      "metadata": {
        "colab": {
          "base_uri": "https://localhost:8080/"
        },
        "id": "_gzKyaK8W2Kn",
        "outputId": "f460e41f-b73e-40dc-cb20-5f762eab78d3"
      },
      "execution_count": null,
      "outputs": [
        {
          "output_type": "stream",
          "name": "stdout",
          "text": [
            "782/782 [==============================] - 18s 23ms/step - loss: 0.5296 - accuracy: 0.8019\n",
            "Test accuracy: 0.8019199967384338\n"
          ]
        }
      ]
    },
    {
      "cell_type": "code",
      "source": [],
      "metadata": {
        "id": "mUtb9GzKW8rr"
      },
      "execution_count": null,
      "outputs": []
    }
  ]
}