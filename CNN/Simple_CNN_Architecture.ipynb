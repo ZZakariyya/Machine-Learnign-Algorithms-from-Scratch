{
  "nbformat": 4,
  "nbformat_minor": 0,
  "metadata": {
    "colab": {
      "provenance": [],
      "toc_visible": true
    },
    "kernelspec": {
      "name": "python3",
      "display_name": "Python 3"
    },
    "language_info": {
      "name": "python"
    }
  },
  "cells": [
    {
      "cell_type": "markdown",
      "source": [
        "#Here is a simple Python code that demonstrates the basic structure of a CNN using only NumPy:"
      ],
      "metadata": {
        "id": "h8vFqt3mOaJb"
      }
    },
    {
      "cell_type": "code",
      "execution_count": 11,
      "metadata": {
        "id": "8D5kbbYcJt8U"
      },
      "outputs": [],
      "source": [
        "import numpy as np\n",
        "\n",
        "# Softmax function\n",
        "def softmax(x):\n",
        "    e_x = np.exp(x - np.max(x))\n",
        "    return e_x / e_x.sum(axis=0)\n",
        "\n",
        "# Fully connected layer\n",
        "def fully_connected_layer(x, weights, bias):\n",
        "    return np.dot(weights, x) + bias\n",
        "\n",
        "# Convolution function\n",
        "def conv2D(image, kernel):\n",
        "    kernel_height, kernel_width = kernel.shape\n",
        "    image_height, image_width = image.shape\n",
        "\n",
        "    output_height = image_height - kernel_height + 1\n",
        "    output_width = image_width - kernel_width + 1\n",
        "    output = np.zeros((output_height, output_width))\n",
        "\n",
        "    for y in range(output_height):\n",
        "        for x in range(output_width):\n",
        "            output[y, x] = np.sum(image[y:y+kernel_height, x:x+kernel_width] * kernel)\n",
        "\n",
        "    return output\n",
        "\n",
        "# ReLU Activation function\n",
        "def relu(x):\n",
        "    return np.maximum(0, x)\n",
        "\n",
        "# Max-pooling function\n",
        "def max_pool(image, pool_size):\n",
        "    image_height, image_width = image.shape\n",
        "\n",
        "    output_height = image_height // pool_size\n",
        "    output_width = image_width // pool_size\n",
        "    output = np.zeros((output_height, output_width))\n",
        "\n",
        "    for y in range(output_height):\n",
        "        for x in range(output_width):\n",
        "            output[y, x] = np.max(image[y*pool_size:y*pool_size+pool_size, x*pool_size:x*pool_size+pool_size])\n",
        "\n",
        "    return output\n",
        "\n",
        "# Example input image (5x5)\n",
        "input_image = np.array([[1, 0, 2, 3, 4],\n",
        "                        [4, 6, 1, 1, 0],\n",
        "                        [1, 4, 0, 2, 3],\n",
        "                        [2, 1, 2, 0, 1],\n",
        "                        [1, 4, 0,1, 2]])\n"
      ]
    },
    {
      "cell_type": "code",
      "source": [
        "import matplotlib.pyplot as plt\n",
        "plt.imshow(input_image, cmap = plt.cm.binary)\n",
        "plt.show()"
      ],
      "metadata": {
        "colab": {
          "base_uri": "https://localhost:8080/",
          "height": 430
        },
        "id": "W4ij9DKSNUIN",
        "outputId": "6b659847-6c7d-46a0-8f65-1ed8ebb14799"
      },
      "execution_count": 2,
      "outputs": [
        {
          "output_type": "display_data",
          "data": {
            "text/plain": [
              "<Figure size 640x480 with 1 Axes>"
            ],
            "image/png": "[encoded data removed]"
          },
          "metadata": {}
        }
      ]
    },
    {
      "cell_type": "markdown",
      "source": [
        "###Example kernel (3x3)"
      ],
      "metadata": {
        "id": "rapgLGPYOmb8"
      }
    },
    {
      "cell_type": "code",
      "source": [
        "kernel = np.array([[1, -1, 0],\n",
        "                  [0, 1, 1],\n",
        "                  [1, 0, -1]])"
      ],
      "metadata": {
        "id": "vtXornXEOToq"
      },
      "execution_count": 12,
      "outputs": []
    },
    {
      "cell_type": "markdown",
      "source": [
        "###Apply convolution"
      ],
      "metadata": {
        "id": "oc8p_73GOqU5"
      }
    },
    {
      "cell_type": "code",
      "source": [
        "conv_output = conv2D(input_image, kernel)\n",
        "print(\"Convolution Output:\")\n",
        "print(conv_output)"
      ],
      "metadata": {
        "colab": {
          "base_uri": "https://localhost:8080/"
        },
        "id": "xuR9WndlNobI",
        "outputId": "a4d82e84-d6a6-409f-9454-a6083157a195"
      },
      "execution_count": 13,
      "outputs": [
        {
          "output_type": "stream",
          "name": "stdout",
          "text": [
            "Convolution Output:\n",
            "[[ 9.  2. -3.]\n",
            " [ 2.  8.  6.]\n",
            " [ 1.  9. -3.]]\n"
          ]
        }
      ]
    },
    {
      "cell_type": "markdown",
      "source": [
        "###Apply ReLU activation"
      ],
      "metadata": {
        "id": "0Dh87jWLOt8y"
      }
    },
    {
      "cell_type": "code",
      "source": [
        "relu_output = relu(conv_output)\n",
        "print(\"\\nReLU Output:\")\n",
        "print(relu_output)"
      ],
      "metadata": {
        "colab": {
          "base_uri": "https://localhost:8080/"
        },
        "id": "Nv80tdwsN0K0",
        "outputId": "acdb1743-bd1a-4226-ad3c-0d6733fb650d"
      },
      "execution_count": 4,
      "outputs": [
        {
          "output_type": "stream",
          "name": "stdout",
          "text": [
            "\n",
            "ReLU Output:\n",
            "[[9. 2. 0.]\n",
            " [2. 8. 6.]\n",
            " [1. 9. 0.]]\n"
          ]
        }
      ]
    },
    {
      "cell_type": "markdown",
      "source": [
        "###Apply max-pooling"
      ],
      "metadata": {
        "id": "nY-GbF4FO-zc"
      }
    },
    {
      "cell_type": "code",
      "source": [
        "pool_output = max_pool(relu_output, 2)\n",
        "print(\"\\nMax-pooling Output:\")\n",
        "print(pool_output)"
      ],
      "metadata": {
        "colab": {
          "base_uri": "https://localhost:8080/"
        },
        "id": "HYwCJpsKN24i",
        "outputId": "9a812ffe-78fa-4ff8-d729-9176fcda618d"
      },
      "execution_count": 5,
      "outputs": [
        {
          "output_type": "stream",
          "name": "stdout",
          "text": [
            "\n",
            "Max-pooling Output:\n",
            "[[9.]]\n"
          ]
        }
      ]
    },
    {
      "cell_type": "markdown",
      "source": [
        "###Let's expand the previous example to include fully connected layers and a softmax layer for classification."
      ],
      "metadata": {
        "id": "ZVXQIeQ4T2XZ"
      }
    },
    {
      "cell_type": "code",
      "source": [
        "# Flatten the pooled output\n",
        "flattened_output = pool_output.flatten()\n",
        "\n",
        "# Define the weights and bias for the fully connected layer\n",
        "# Here, we assume an output size of 3 for illustration purposes\n",
        "weights = np.random.randn(3, flattened_output.size)\n",
        "bias = np.random.randn(3)\n",
        "\n",
        "# Apply the fully connected layer\n",
        "fc_output = fully_connected_layer(flattened_output, weights, bias)\n",
        "\n",
        "# Apply the softmax function for classification\n",
        "softmax_output = softmax(fc_output)\n",
        "\n",
        "# Display softmax output as percentages\n",
        "softmax_percentages = softmax_output * 100\n",
        "\n",
        "# Round the percentages to 2 decimal places\n",
        "softmax_percentages_rounded = np.round(softmax_percentages, 2)\n",
        "\n",
        "print(\"Softmax Output as Percentages:\")\n",
        "print(softmax_percentages_rounded)\n"
      ],
      "metadata": {
        "colab": {
          "base_uri": "https://localhost:8080/"
        },
        "id": "KpjWrgeaSkQY",
        "outputId": "89f1bb6f-62de-491e-9c55-6f16f68e6de3"
      },
      "execution_count": 15,
      "outputs": [
        {
          "output_type": "stream",
          "name": "stdout",
          "text": [
            "Softmax Output as Percentages:\n",
            "[37.22 62.64  0.14]\n"
          ]
        }
      ]
    },
    {
      "cell_type": "markdown",
      "source": [
        "#Simple CNN example with Tensorflow and Keras"
      ],
      "metadata": {
        "id": "5oj2joruTGEq"
      }
    },
    {
      "cell_type": "markdown",
      "source": [
        "###Loading our data"
      ],
      "metadata": {
        "id": "nee1aa1KTNmZ"
      }
    },
    {
      "cell_type": "code",
      "source": [
        "import numpy as np\n",
        "import tensorflow as tf\n",
        "from tensorflow.keras import layers, models\n",
        "from tensorflow.keras.datasets import mnist\n",
        "from tensorflow.keras.utils import to_categorical\n",
        "\n",
        "(x_train, y_train), (x_test, y_test) = mnist.load_data()\n",
        "\n",
        "# Reshape the data to add a channel dimension (1 for grayscale images)\n",
        "x_train = x_train.reshape((60000, 28, 28, 1))\n",
        "x_test = x_test.reshape((10000, 28, 28, 1))\n",
        "\n",
        "# Normalize the pixel values to be between 0 and 1\n",
        "x_train = x_train.astype('float32') / 255\n",
        "x_test = x_test.astype('float32') / 255\n",
        "\n",
        "# One-hot encode the labels\n",
        "y_train = to_categorical(y_train)\n",
        "y_test = to_categorical(y_test)"
      ],
      "metadata": {
        "colab": {
          "base_uri": "https://localhost:8080/"
        },
        "id": "hhQZClQON5A1",
        "outputId": "46d65d3f-7126-4114-e72a-c0e3850ba89a"
      },
      "execution_count": 6,
      "outputs": [
        {
          "output_type": "stream",
          "name": "stdout",
          "text": [
            "Downloading data from https://storage.googleapis.com/tensorflow/tf-keras-datasets/mnist.npz\n",
            "11490434/11490434 [==============================] - 0s 0us/step\n"
          ]
        }
      ]
    },
    {
      "cell_type": "markdown",
      "source": [
        "###Model"
      ],
      "metadata": {
        "id": "jNQyLAb_TczF"
      }
    },
    {
      "cell_type": "code",
      "source": [
        "model = models.Sequential()\n",
        "model.add(layers.Conv2D(32, (3, 3), activation='relu', input_shape=(28, 28, 1)))\n",
        "model.add(layers.MaxPooling2D((2, 2)))\n",
        "model.add(layers.Conv2D(64, (3, 3), activation='relu'))\n",
        "model.add(layers.MaxPooling2D((2, 2)))\n",
        "model.add(layers.Conv2D(64, (3, 3), activation='relu'))\n",
        "model.add(layers.Flatten())\n",
        "model.add(layers.Dense(64, activation='relu'))\n",
        "model.add(layers.Dense(10, activation='softmax'))\n",
        "\n",
        "model.summary()"
      ],
      "metadata": {
        "colab": {
          "base_uri": "https://localhost:8080/"
        },
        "id": "58ufRkxVPUlQ",
        "outputId": "879bc552-4810-41c0-f3cf-a68fc234ed05"
      },
      "execution_count": 8,
      "outputs": [
        {
          "output_type": "stream",
          "name": "stdout",
          "text": [
            "Model: \"sequential\"\n",
            "_________________________________________________________________\n",
            " Layer (type)                Output Shape              Param #   \n",
            "=================================================================\n",
            " conv2d (Conv2D)             (None, 26, 26, 32)        320       \n",
            "                                                                 \n",
            " max_pooling2d (MaxPooling2D  (None, 13, 13, 32)       0         \n",
            " )                                                               \n",
            "                                                                 \n",
            " conv2d_1 (Conv2D)           (None, 11, 11, 64)        18496     \n",
            "                                                                 \n",
            " max_pooling2d_1 (MaxPooling  (None, 5, 5, 64)         0         \n",
            " 2D)                                                             \n",
            "                                                                 \n",
            " conv2d_2 (Conv2D)           (None, 3, 3, 64)          36928     \n",
            "                                                                 \n",
            " flatten (Flatten)           (None, 576)               0         \n",
            "                                                                 \n",
            " dense (Dense)               (None, 64)                36928     \n",
            "                                                                 \n",
            " dense_1 (Dense)             (None, 10)                650       \n",
            "                                                                 \n",
            "=================================================================\n",
            "Total params: 93,322\n",
            "Trainable params: 93,322\n",
            "Non-trainable params: 0\n",
            "_________________________________________________________________\n"
          ]
        }
      ]
    },
    {
      "cell_type": "code",
      "source": [
        "model.compile(optimizer='adam',\n",
        "              loss='categorical_crossentropy',\n",
        "              metrics=['accuracy'])\n",
        "\n",
        "model.fit(x_train, y_train, epochs=5, batch_size=64)"
      ],
      "metadata": {
        "colab": {
          "base_uri": "https://localhost:8080/"
        },
        "id": "c3J_xIcMPWRX",
        "outputId": "74e54eec-6090-42b2-8740-07c602f3061d"
      },
      "execution_count": 9,
      "outputs": [
        {
          "output_type": "stream",
          "name": "stdout",
          "text": [
            "Epoch 1/5\n",
            "938/938 [==============================] - 67s 69ms/step - loss: 0.1810 - accuracy: 0.9446\n",
            "Epoch 2/5\n",
            "938/938 [==============================] - 61s 65ms/step - loss: 0.0500 - accuracy: 0.9847\n",
            "Epoch 3/5\n",
            "938/938 [==============================] - 62s 66ms/step - loss: 0.0360 - accuracy: 0.9889\n",
            "Epoch 4/5\n",
            "938/938 [==============================] - 62s 67ms/step - loss: 0.0279 - accuracy: 0.9911\n",
            "Epoch 5/5\n",
            "938/938 [==============================] - 60s 64ms/step - loss: 0.0220 - accuracy: 0.9929\n"
          ]
        },
        {
          "output_type": "execute_result",
          "data": {
            "text/plain": [
              "<keras.callbacks.History at 0x7fa26aa6eb30>"
            ]
          },
          "metadata": {},
          "execution_count": 9
        }
      ]
    },
    {
      "cell_type": "markdown",
      "source": [
        "###Accuracy"
      ],
      "metadata": {
        "id": "smtKRRyTTkz7"
      }
    },
    {
      "cell_type": "code",
      "source": [
        "test_loss, test_acc = model.evaluate(x_test, y_test)\n",
        "print(f'Test accuracy: {test_acc}')"
      ],
      "metadata": {
        "colab": {
          "base_uri": "https://localhost:8080/"
        },
        "id": "qh6DMjuFPYvE",
        "outputId": "34ad059c-669f-46dc-dfef-1bf853748269"
      },
      "execution_count": 10,
      "outputs": [
        {
          "output_type": "stream",
          "name": "stdout",
          "text": [
            "313/313 [==============================] - 4s 12ms/step - loss: 0.0320 - accuracy: 0.9896\n",
            "Test accuracy: 0.9896000027656555\n"
          ]
        }
      ]
    }
  ]
}